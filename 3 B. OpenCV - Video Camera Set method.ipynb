{
 "cells": [
  {
   "cell_type": "markdown",
   "metadata": {},
   "source": [
    "# Camera Set Method\n",
    "\n",
    "using set method can change the resolution of the camera, but mind if the camera has only one resolution it will keep that"
   ]
  },
  {
   "cell_type": "code",
   "execution_count": 1,
   "metadata": {},
   "outputs": [],
   "source": [
    "import cv2 as cv"
   ]
  },
  {
   "cell_type": "code",
   "execution_count": null,
   "metadata": {},
   "outputs": [],
   "source": [
    "\n",
    "cap = cv.VideoCapture(0); #capture image\n",
    "\n",
    "print(cap.get(cv.CAP_PROP_FRAME_HEIGHT))# to get different properties of the video, here the height of video\n",
    "print(cap.get(cv.CAP_PROP_FRAME_WIDTH)) # to get the width of the image, cand fid list from Opencv website\n",
    "\n",
    "\n",
    "while (cap.isOpened()):\n",
    "    # using cap instance we will call read, if return true. if frame available will save in frame variable\n",
    "    ret, frame = cap.read() #ret is boolean\n",
    "    \n",
    "    if ret == True: #check if ret is true, only then we will ssave the file\n",
    "    \n",
    "        gray = cv.cvtColor(frame, cv2.COLOR_BGR2GRAY) #we change the default capture image BGR to grey\n",
    "    \n",
    "        cv.imshow('frame', gray)\n",
    "    \n",
    "        if cv.waitKey(1) & 0xFF == ord('q'): # pressing q key on keyboard to quit.\n",
    "            break\n",
    "    else:\n",
    "        break\n",
    "\n",
    "cap.release()\n",
    "cv.destroyAllWindows()\n",
    "cv.waitKey(1)\n",
    "cv.waitKey(1)\n",
    "cv.waitKey(1)\n",
    "cv.waitKey(1)"
   ]
  },
  {
   "cell_type": "code",
   "execution_count": 5,
   "metadata": {},
   "outputs": [
    {
     "name": "stdout",
     "output_type": "stream",
     "text": [
      "1280.0\n",
      "720.0\n",
      "1280.0\n",
      "720.0\n"
     ]
    },
    {
     "data": {
      "text/plain": [
       "-1"
      ]
     },
     "execution_count": 5,
     "metadata": {},
     "output_type": "execute_result"
    }
   ],
   "source": [
    "cap = cv.VideoCapture(0); #capture image\n",
    "\n",
    "#just like get we can use set to define the property. Every property (CAP_PROP_FRAME_HEIGHT) has value here is 4.\n",
    "#similarly you can give that and second valiable as set height size\n",
    "\n",
    "print(cap.get(3)) \n",
    "print(cap.get(4))\n",
    "\n",
    "cap.set(3, 2000) #value for prop_frame_height, the camera takes the resolution what it has here it doesnt change\n",
    "cap.set(4, 1000) #for height\n",
    "\n",
    "print(cap.get(3)) \n",
    "print(cap.get(4))\n",
    "\n",
    "while (cap.isOpened()):\n",
    "    ret, frame = cap.read() #ret is boolean\n",
    "    \n",
    "    if ret == True: #check if ret is true, only then we will ssave the file\n",
    "    \n",
    "        gray = cv.cvtColor(frame, cv.COLOR_BGR2GRAY) #we change the default capture image BGR to grey\n",
    "        cv.imshow('frame', gray)\n",
    "    \n",
    "        if cv.waitKey(1) & 0xFF == ord('q'): # pressing q key on keyboard to quit.\n",
    "            break\n",
    "    else:\n",
    "        break\n",
    "\n",
    "cap.release()\n",
    "cv.destroyAllWindows()\n",
    "cv.waitKey(1)\n",
    "cv.waitKey(1)\n",
    "cv.waitKey(1)\n",
    "cv.waitKey(1)\n",
    "\n",
    "\n"
   ]
  },
  {
   "cell_type": "code",
   "execution_count": null,
   "metadata": {},
   "outputs": [],
   "source": []
  }
 ],
 "metadata": {
  "kernelspec": {
   "display_name": "Python 3",
   "language": "python",
   "name": "python3"
  },
  "language_info": {
   "codemirror_mode": {
    "name": "ipython",
    "version": 3
   },
   "file_extension": ".py",
   "mimetype": "text/x-python",
   "name": "python",
   "nbconvert_exporter": "python",
   "pygments_lexer": "ipython3",
   "version": "3.7.4"
  }
 },
 "nbformat": 4,
 "nbformat_minor": 2
}
