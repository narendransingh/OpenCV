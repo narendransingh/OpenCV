{
 "cells": [
  {
   "cell_type": "markdown",
   "metadata": {},
   "source": [
    "## Harris Corner Detection\n",
    "\n",
    "Corners are region in the image with large variation in intensity in all the direction. Harris Corner Dectector was first  introdcuted by Chris HArris and mike Sthephes in 1988. It contains three main steps:\n",
    "\n",
    "1. determine which window produces very large variation in intensity when move in X or Y direction. Windows are the area in change from box to x or y direction\n",
    "\n",
    "2. with each such window found, a score R is computed. R will give us the idea about where this window is in the image.\n",
    "\n",
    "3. Apply threshold to this score, important corners are selected and marked\n",
    "\n",
    "From step 1 we get Eculidean distance of the shift in intensity cell to either x or y direction. We maximize this function, distance using TAYLOR EXPANSION and mathematical steps, we get approximate values M in [u v] vector. We take derivate of x and y, using SOBEL function in OpenCV\n",
    "\n",
    "From step 2, Rscore = det (M) - k(trace(M))**2\n",
    "where det(M) - lambda1, lambda2\n",
    "trace(M) - lambda1 + lambda2\n",
    "lambda1 and lambda2 are eigen values of M\n",
    "\n",
    "From step 3 - After applying threshold to the R score, important corners are selected and marked.\n",
    "\n",
    "if:\n",
    "1. |R| is small which happens when lambda1 and lambda2 are small, the region is flat.\n",
    "2. |R| < 0 whihc happens when lambda1 >> lambda2 or vice versa, the region is an edge.\n",
    "3. |R| is large which happens when lambda1 and lambda2 are large and lambda1~lambda2, the region is a corner.\n",
    "\n"
   ]
  },
  {
   "cell_type": "code",
   "execution_count": 8,
   "metadata": {},
   "outputs": [],
   "source": [
    "import cv2 as cv\n",
    "import matplotlib.pyplot as plt\n",
    "import numpy as np"
   ]
  },
  {
   "cell_type": "code",
   "execution_count": 4,
   "metadata": {},
   "outputs": [],
   "source": [
    "image = cv.imread('chessboard.jpg')"
   ]
  },
  {
   "cell_type": "code",
   "execution_count": 5,
   "metadata": {},
   "outputs": [
    {
     "data": {
      "text/plain": [
       "<matplotlib.image.AxesImage at 0x7f8a85c21350>"
      ]
     },
     "execution_count": 5,
     "metadata": {},
     "output_type": "execute_result"
    },
    {
     "data": {
      "image/png": "[encoded data removed]",
      "text/plain": [
       "<Figure size 432x288 with 1 Axes>"
      ]
     },
     "metadata": {
      "needs_background": "light"
     },
     "output_type": "display_data"
    }
   ],
   "source": [
    "plt.imshow(image)"
   ]
  },
  {
   "cell_type": "code",
   "execution_count": 6,
   "metadata": {},
   "outputs": [],
   "source": [
    "image_gray = cv.cvtColor(image, cv.COLOR_BGR2GRAY)"
   ]
  },
  {
   "cell_type": "code",
   "execution_count": 9,
   "metadata": {},
   "outputs": [],
   "source": [
    "#convert the grayscale image to float32 since Harris Corner takes image in float32 format. \n",
    "\n",
    "image_gray = np.float32(image_gray)"
   ]
  },
  {
   "cell_type": "markdown",
   "metadata": {},
   "source": [
    "#### Apply Harris Corner\n",
    "#values:(image(in float, block_size(window=2 meas (2x2), aperture_parameter for Sobel derivative, k(which Harris detector free parameter))"
   ]
  },
  {
   "cell_type": "code",
   "execution_count": 10,
   "metadata": {},
   "outputs": [],
   "source": [
    "#apply Harris Corner we get destination image\n",
    "\n",
    "dst = cv.cornerHarris(image_gray, 2, 3, 0.04)"
   ]
  },
  {
   "cell_type": "code",
   "execution_count": 11,
   "metadata": {},
   "outputs": [],
   "source": [
    "#apply dilate to get better result, this marked through dialted corners.\n",
    "\n",
    "dst = cv.dilate(dst, None)"
   ]
  },
  {
   "cell_type": "code",
   "execution_count": 14,
   "metadata": {},
   "outputs": [],
   "source": [
    "#reverting back to original image with optimal threshold values, and mark all corners with color\n",
    "\n",
    "image [dst > 0.01 * dst.max()] = [0, 255, 0]"
   ]
  },
  {
   "cell_type": "code",
   "execution_count": 17,
   "metadata": {},
   "outputs": [
    {
     "data": {
      "text/plain": [
       "-1"
      ]
     },
     "execution_count": 17,
     "metadata": {},
     "output_type": "execute_result"
    }
   ],
   "source": [
    "#Display image\n",
    "\n",
    "cv.imshow('final', image)\n",
    "cv.waitKey(0)\n",
    "cv.destroyAllWindows()\n",
    "cv.waitKey(1)\n",
    "cv.waitKey(1)\n",
    "cv.waitKey(1)\n",
    "cv.waitKey(1)"
   ]
  },
  {
   "cell_type": "code",
   "execution_count": 16,
   "metadata": {},
   "outputs": [
    {
     "data": {
      "text/plain": [
       "<matplotlib.image.AxesImage at 0x7f8a877cadd0>"
      ]
     },
     "execution_count": 16,
     "metadata": {},
     "output_type": "execute_result"
    },
    {
     "data": {
      "image/png": "[encoded data removed]",
      "text/plain": [
       "<Figure size 432x288 with 1 Axes>"
      ]
     },
     "metadata": {
      "needs_background": "light"
     },
     "output_type": "display_data"
    }
   ],
   "source": [
    "plt.imshow(image) #images with corners detected in green"
   ]
  },
  {
   "cell_type": "code",
   "execution_count": null,
   "metadata": {},
   "outputs": [],
   "source": []
  },
  {
   "cell_type": "code",
   "execution_count": null,
   "metadata": {},
   "outputs": [],
   "source": []
  },
  {
   "cell_type": "code",
   "execution_count": null,
   "metadata": {},
   "outputs": [],
   "source": []
  },
  {
   "cell_type": "code",
   "execution_count": null,
   "metadata": {},
   "outputs": [],
   "source": []
  }
 ],
 "metadata": {
  "kernelspec": {
   "display_name": "Python 3",
   "language": "python",
   "name": "python3"
  },
  "language_info": {
   "codemirror_mode": {
    "name": "ipython",
    "version": 3
   },
   "file_extension": ".py",
   "mimetype": "text/x-python",
   "name": "python",
   "nbconvert_exporter": "python",
   "pygments_lexer": "ipython3",
   "version": "3.7.4"
  }
 },
 "nbformat": 4,
 "nbformat_minor": 2
}
