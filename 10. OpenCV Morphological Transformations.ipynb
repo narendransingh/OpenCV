{
 "cells": [
  {
   "cell_type": "markdown",
   "metadata": {},
   "source": [
    "# Morphological Transformation\n",
    "\n",
    "Operation like Erossion, dialation, opening and closing methods.\n",
    "\n",
    "What are M - simple operations based on image shape, it is performed on binary image, there are two things required. Mask to threshold.\n",
    "1. Original image\n",
    "2. Kernel (which decides the nature of operations)"
   ]
  },
  {
   "cell_type": "code",
   "execution_count": 4,
   "metadata": {},
   "outputs": [],
   "source": [
    "import cv2 as cv\n",
    "import numpy as np\n",
    "import matplotlib.pyplot as plt"
   ]
  },
  {
   "cell_type": "code",
   "execution_count": 5,
   "metadata": {},
   "outputs": [],
   "source": [
    "image = cv.imread('smarties.jpg', cv.IMREAD_GRAYSCALE)"
   ]
  },
  {
   "cell_type": "code",
   "execution_count": 10,
   "metadata": {},
   "outputs": [],
   "source": [
    "#threshold values:(image, value of threshold, max value of threshold, and threshold filter)\n",
    "#after masking we can see Mark image has black dots in region\n",
    "\n",
    "_, mask = cv.threshold(image, 220, 255, cv.THRESH_BINARY_INV)"
   ]
  },
  {
   "cell_type": "code",
   "execution_count": 40,
   "metadata": {},
   "outputs": [],
   "source": [
    "kernel = np.ones((2,2), np.uint8) #define kernel "
   ]
  },
  {
   "cell_type": "markdown",
   "metadata": {},
   "source": [
    "### Dialation (increases the area of white)\n",
    "remove the black dots from mark image, we shall use Dilation.\n",
    "Kernel is is shape we want to apply on image, we shall use white(np.ones), sqaure shape of 2x2\n",
    "values: (image, kernel, iteration(default=1))\n",
    "\n",
    "use dialtion steps to remove black dots on white space\n",
    "1. increase the number interation\n",
    "2. increase the size of filter, issue with this - this will increase the white space, and may merge the dilation area."
   ]
  },
  {
   "cell_type": "code",
   "execution_count": 27,
   "metadata": {},
   "outputs": [],
   "source": [
    "dilation = cv.dilate(mask, kernel, iterations=2) #increase the iteration to remove black dots in white space"
   ]
  },
  {
   "cell_type": "markdown",
   "metadata": {},
   "source": [
    "## Erosion(reduces by eroding the edges away)\n",
    "\n",
    "Using the same kernel, erosion, removes the sides are eroded all the image. It erodes away the boundry area of foreground object. The kernel slides through all image, pixel in original image (1/0) will be considered as 1, ONLY IF all the pixels under the kernel is 1 else it will put as 0 as it will be eroded. \n",
    "\n",
    "values:(image,kernel, optional(iteration) default =1)"
   ]
  },
  {
   "cell_type": "code",
   "execution_count": 41,
   "metadata": {},
   "outputs": [],
   "source": [
    "erosion = cv.erode(mask, kernel,iterations=1)"
   ]
  },
  {
   "cell_type": "markdown",
   "metadata": {},
   "source": [
    "## Opening and Closing Morphological Transform \n",
    "\n",
    "Opening is another name for erosion, and then the dilation will be performed on the image.\n",
    "\n",
    "Closing is opposite, dilation is performed first and then ersosion will be perfromed.\n",
    "\n",
    "value:(source, type of morph. operation, Kernel)"
   ]
  },
  {
   "cell_type": "code",
   "execution_count": 50,
   "metadata": {},
   "outputs": [],
   "source": [
    "opening = cv.morphologyEx(mask, cv.MORPH_OPEN, kernel)"
   ]
  },
  {
   "cell_type": "code",
   "execution_count": 51,
   "metadata": {},
   "outputs": [],
   "source": [
    "closing = cv.morphologyEx(mask, cv.MORPH_CLOSE, kernel)"
   ]
  },
  {
   "cell_type": "code",
   "execution_count": 64,
   "metadata": {},
   "outputs": [],
   "source": [
    "mg = cv.morphologyEx(mask, cv.MORPH_GRADIENT, kernel) #difference dilation and erosion of image"
   ]
  },
  {
   "cell_type": "code",
   "execution_count": 65,
   "metadata": {},
   "outputs": [],
   "source": [
    "toph = cv.morphologyEx(mask, cv.MORPH_TOPHAT, kernel) #difference input image and opening of image"
   ]
  },
  {
   "cell_type": "code",
   "execution_count": 66,
   "metadata": {},
   "outputs": [],
   "source": [
    "titles = ['Originial', 'Mask', 'dilation', 'erosion', 'opening', 'closing', 'gradiant', 'top_hat']\n",
    "images = [image, mask, dilation, erosion, opening, closing, mg, toph]"
   ]
  },
  {
   "cell_type": "code",
   "execution_count": 68,
   "metadata": {},
   "outputs": [
    {
     "data": {
      "image/png": "[encoded data removed]",
      "text/plain": [
       "<Figure size 432x288 with 8 Axes>"
      ]
     },
     "metadata": {},
     "output_type": "display_data"
    }
   ],
   "source": [
    "for i in range(8):\n",
    "    plt.subplot(2, 4, i+1), plt.imshow(images[i], 'gray')\n",
    "    plt.title(titles[i])\n",
    "    plt.xticks([]),plt.yticks([])\n",
    "\n",
    "plt.show()\n",
    "    "
   ]
  },
  {
   "cell_type": "code",
   "execution_count": null,
   "metadata": {},
   "outputs": [],
   "source": []
  },
  {
   "cell_type": "code",
   "execution_count": null,
   "metadata": {},
   "outputs": [],
   "source": []
  }
 ],
 "metadata": {
  "kernelspec": {
   "display_name": "Python 3",
   "language": "python",
   "name": "python3"
  },
  "language_info": {
   "codemirror_mode": {
    "name": "ipython",
    "version": 3
   },
   "file_extension": ".py",
   "mimetype": "text/x-python",
   "name": "python",
   "nbconvert_exporter": "python",
   "pygments_lexer": "ipython3",
   "version": "3.7.4"
  }
 },
 "nbformat": 4,
 "nbformat_minor": 2
}
