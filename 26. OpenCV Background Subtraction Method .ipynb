{
 "cells": [
  {
   "cell_type": "markdown",
   "metadata": {},
   "source": [
    "## Background Subtraction Method\n",
    "\n",
    "Common techique to generate foreground mask which is also know binary image containing the pixels beloging to moving object of a scene when image is captured using static camera.\n",
    "\n",
    "It calculates the foreground mask performing the subtraction between the  current frame and background model containing static part of scene.\n",
    "\n",
    "Application:\n",
    "\n",
    "It can be used in visitor counter, where a static camera capturing the number of visitors entering or leaving the room.\n",
    "traffic camera, which wants to calculate the various calamatic data from moving car data. \n",
    "\n",
    "Different algorithms we can use in OpenCV.\n"
   ]
  },
  {
   "cell_type": "code",
   "execution_count": 1,
   "metadata": {},
   "outputs": [
    {
     "name": "stdout",
     "output_type": "stream",
     "text": [
      "Collecting opencv-contrib-python\n",
      "  Downloading opencv_contrib_python-4.4.0.42-cp38-cp38-macosx_10_13_x86_64.whl (63.9 MB)\n",
      "\u001b[K     |████████████████████████████████| 63.9 MB 274 kB/s eta 0:00:01    |▌                               | 921 kB 100 kB/s eta 0:10:25     |████████                        | 15.9 MB 66 kB/s eta 0:12:04     |██████████████████████          | 44.1 MB 689 kB/s eta 0:00:29     |██████████████████████████▋     | 53.1 MB 584 kB/s eta 0:00:19\n",
      "\u001b[?25hRequirement already satisfied: numpy>=1.17.3 in /Users/narendransingh/opt/anaconda3/envs/OpenCV_3_8/lib/python3.8/site-packages (from opencv-contrib-python) (1.19.1)\n",
      "Installing collected packages: opencv-contrib-python\n",
      "Successfully installed opencv-contrib-python-4.4.0.42\n",
      "Note: you may need to restart the kernel to use updated packages.\n"
     ]
    }
   ],
   "source": [
    "#pip install opencv-contrib-python"
   ]
  },
  {
   "cell_type": "code",
   "execution_count": 1,
   "metadata": {},
   "outputs": [],
   "source": [
    "import cv2 as cv\n",
    "import numpy as np\n",
    "import matplotlib.pyplot as plt"
   ]
  },
  {
   "cell_type": "code",
   "execution_count": 2,
   "metadata": {},
   "outputs": [],
   "source": [
    "cap = cv.VideoCapture('vtest.avi')"
   ]
  },
  {
   "cell_type": "markdown",
   "metadata": {},
   "source": [
    "#bgsegm.createBackgroundSubtractorMOG method is gaussian mixture based bg and fg segmentation algorithm.\n",
    "\n",
    "it creating bg object of function using the method \n",
    "\n",
    "values:(history, no of gaussian mixture, threshold) all are set to default.  "
   ]
  },
  {
   "cell_type": "code",
   "execution_count": 3,
   "metadata": {},
   "outputs": [],
   "source": [
    "#define foreground background variable, and use the function to create background object\n",
    "\n",
    "fg_bg = cv.bgsegm.createBackgroundSubtractorMOG() #default values."
   ]
  },
  {
   "cell_type": "markdown",
   "metadata": {},
   "source": [
    "#### We will want to calculate the number of ppl moving in the image"
   ]
  },
  {
   "cell_type": "code",
   "execution_count": 4,
   "metadata": {},
   "outputs": [
    {
     "data": {
      "text/plain": [
       "-1"
      ]
     },
     "execution_count": 4,
     "metadata": {},
     "output_type": "execute_result"
    }
   ],
   "source": [
    "#open if true\n",
    "\n",
    "while cap.isOpened():\n",
    "    \n",
    "    ret, frame = cap.read()\n",
    "    \n",
    "    if frame is None:\n",
    "        break\n",
    "    \n",
    "    #foreground mask - Apply method on background_subtrator(fg_bg). Take the argument frame\n",
    "    fgmask = fg_bg.apply(frame)\n",
    "    \n",
    "    #show the actual video\n",
    "    cv.imshow('Frame', frame)\n",
    "    \n",
    "    #show the foreground mask frame\n",
    "    cv.imshow('FG_masked_frame', fgmask) # you can view the moving person on the foreground mask\n",
    "    \n",
    "    keyboard = cv.waitKey(1)\n",
    "    \n",
    "    if keyboard == 'q' or keyboard == 27:\n",
    "        break\n",
    "        \n",
    "        \n",
    "cap.release()\n",
    "cv.destroyAllWindows()\n",
    "cv.waitKey(1)\n",
    "cv.waitKey(1)\n",
    "cv.waitKey(1)\n",
    "cv.waitKey(1)"
   ]
  },
  {
   "cell_type": "code",
   "execution_count": 5,
   "metadata": {},
   "outputs": [
    {
     "data": {
      "text/plain": [
       "-1"
      ]
     },
     "execution_count": 5,
     "metadata": {},
     "output_type": "execute_result"
    }
   ],
   "source": [
    "cap.release()\n",
    "cv.destroyAllWindows()\n",
    "cv.waitKey(1)\n",
    "cv.waitKey(1)\n",
    "cv.waitKey(1)\n",
    "cv.waitKey(1)"
   ]
  },
  {
   "cell_type": "markdown",
   "metadata": {},
   "source": [
    "### Seond Method - BackgroundSubrtactorMOG2\n",
    "\n",
    "Apply second method BackgroundSubrtactorMOG2 which is also Gaussian Mixture based on background and foreground segmentation algorithm.\n",
    "\n",
    "Can use to fetect shadows, which is missing from MOG. can use detectShadow=False. Shadows are displayed in gray color.\n",
    "\n",
    "This method is directly avaliable in cv"
   ]
  },
  {
   "cell_type": "code",
   "execution_count": 3,
   "metadata": {},
   "outputs": [],
   "source": [
    "#applying the function\n",
    "\n",
    "fg_bg2 = cv.createBackgroundSubtractorMOG2() # use default values, also can use detectShadow in gray"
   ]
  },
  {
   "cell_type": "code",
   "execution_count": null,
   "metadata": {},
   "outputs": [],
   "source": [
    "#rest will be as above, open if true\n",
    "\n",
    "while cap.isOpened():\n",
    "    \n",
    "    ret, frame = cap.read()\n",
    "    \n",
    "    if frame is None:\n",
    "        break\n",
    "    \n",
    "    #foreground mask - Apply method on background_subtrator(fg_bg). Take the argument frame\n",
    "    fgmask2 = fg_bg2.apply(frame)\n",
    "    \n",
    "    #show the actual video\n",
    "    cv.imshow('Frame', frame)\n",
    "    \n",
    "    #show the foreground mask frame\n",
    "    cv.imshow('FG_masked_frame', fgmask2) # you can view the moving person also the shadows.\n",
    "    \n",
    "    keyboard = cv.waitKey(30)\n",
    "    \n",
    "    if keyboard == 'q' or keyboard == 27:\n",
    "        break\n",
    "        \n",
    "        \n",
    "cap.release()\n",
    "cv.destroyAllWindows()\n",
    "cv.waitKey(1)\n",
    "cv.waitKey(1)\n",
    "cv.waitKey(1)\n",
    "cv.waitKey(1)"
   ]
  },
  {
   "cell_type": "code",
   "execution_count": null,
   "metadata": {},
   "outputs": [],
   "source": [
    "cap.release()\n",
    "cv.destroyAllWindows()\n",
    "cv.waitKey(1)\n",
    "cv.waitKey(1)\n",
    "cv.waitKey(1)\n",
    "cv.waitKey(1)"
   ]
  },
  {
   "cell_type": "markdown",
   "metadata": {},
   "source": [
    "### Third Method - BackgroundSubrtactorGMG\n",
    "\n",
    "Apply second method BackgroundSubrtactorGMG Algorithm combines statistical background images estimation and pre-pixel biasian segmentation.\n",
    "\n",
    "We have to apply morphological opening to result to remove the noises.\n",
    "\n",
    "This method is directly avaliable in cv.bgsegm"
   ]
  },
  {
   "cell_type": "code",
   "execution_count": 3,
   "metadata": {},
   "outputs": [],
   "source": [
    "#applying the function\n",
    "\n",
    "fg_bg3 = cv.bgsegm.createBackgroundSubtractorGMG() # use default values, also can use detectShadow in gray"
   ]
  },
  {
   "cell_type": "code",
   "execution_count": 4,
   "metadata": {},
   "outputs": [
    {
     "data": {
      "text/plain": [
       "-1"
      ]
     },
     "execution_count": 4,
     "metadata": {},
     "output_type": "execute_result"
    }
   ],
   "source": [
    "#add morphological opening to result\n",
    "\n",
    "#define kernel\n",
    "#values:getStructingElements(shape of morph, kernel_size)\n",
    "kernel = cv.getStructuringElement(cv.MORPH_ELLIPSE, (3,3))\n",
    "\n",
    "while cap.isOpened():\n",
    "    \n",
    "    ret, frame = cap.read()\n",
    "    \n",
    "    if frame is None:\n",
    "        break\n",
    "    \n",
    "    #foreground mask - Apply method on background_subtrator(fg_bg). Take the argument frame\n",
    "    fgmask3 = fg_bg3.apply(frame)\n",
    "    \n",
    "    #apply morphological\n",
    "    #values:(image, op method, kernel)\n",
    "    fgmask3 = cv.morphologyEx(fgmask3, cv.MORPH_OPEN, kernel)\n",
    "    \n",
    "    \n",
    "    #show the actual video\n",
    "    cv.imshow('Frame', frame)\n",
    "    \n",
    "    #show the foreground mask frame\n",
    "    cv.imshow('FG_masked_frame', fgmask3) # you can view the moving person also the shadows.\n",
    "    \n",
    "    \n",
    "    keyboard = cv.waitKey(30)\n",
    "    \n",
    "    if keyboard == 'q' or keyboard == 27:\n",
    "        break\n",
    "        \n",
    "        \n",
    "cap.release()\n",
    "cv.destroyAllWindows()\n",
    "cv.waitKey(1)\n",
    "cv.waitKey(1)\n",
    "cv.waitKey(1)\n",
    "cv.waitKey(1)"
   ]
  },
  {
   "cell_type": "markdown",
   "metadata": {},
   "source": [
    "### Fourth Method - BackgroundSubrtactorKNN\n",
    "\n",
    "Apply second method BackgroundSubrtactorKNN Algorithm, we do not need kernel for this.\n",
    "\n",
    "This method is directly avaliable in cv"
   ]
  },
  {
   "cell_type": "code",
   "execution_count": 5,
   "metadata": {},
   "outputs": [],
   "source": [
    "#applying the function\n",
    "\n",
    "fg_bg4 = cv.createBackgroundSubtractorKNN() # use default values, also shows the shadows in gray"
   ]
  },
  {
   "cell_type": "code",
   "execution_count": 7,
   "metadata": {},
   "outputs": [
    {
     "data": {
      "text/plain": [
       "-1"
      ]
     },
     "execution_count": 7,
     "metadata": {},
     "output_type": "execute_result"
    }
   ],
   "source": [
    "#rest will be as above, open if true\n",
    "\n",
    "while cap.isOpened():\n",
    "    \n",
    "    ret, frame = cap.read()\n",
    "    \n",
    "    if frame is None:\n",
    "        break\n",
    "    \n",
    "    #foreground mask - Apply method on background_subtrator(fg_bg). Take the argument frame\n",
    "    fgmask4 = fg_bg4.apply(frame)\n",
    "    \n",
    "    #show the actual video\n",
    "    cv.imshow('Frame', frame)\n",
    "    \n",
    "    #show the foreground mask frame\n",
    "    cv.imshow('FG_masked_frame', fgmask4) # you can view the moving person also the shadows.\n",
    "    \n",
    "    keyboard = cv.waitKey(30)\n",
    "    \n",
    "    if keyboard == 'q' or keyboard == 27:\n",
    "        break\n",
    "        \n",
    "        \n",
    "cap.release()\n",
    "cv.destroyAllWindows()\n",
    "cv.waitKey(1)\n",
    "cv.waitKey(1)\n",
    "cv.waitKey(1)\n",
    "cv.waitKey(1)"
   ]
  },
  {
   "cell_type": "code",
   "execution_count": null,
   "metadata": {},
   "outputs": [],
   "source": []
  }
 ],
 "metadata": {
  "kernelspec": {
   "display_name": "Python 3",
   "language": "python",
   "name": "python3"
  },
  "language_info": {
   "codemirror_mode": {
    "name": "ipython",
    "version": 3
   },
   "file_extension": ".py",
   "mimetype": "text/x-python",
   "name": "python",
   "nbconvert_exporter": "python",
   "pygments_lexer": "ipython3",
   "version": "3.8.5"
  }
 },
 "nbformat": 4,
 "nbformat_minor": 2
}
