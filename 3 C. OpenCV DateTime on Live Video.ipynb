{
 "cells": [
  {
   "cell_type": "markdown",
   "metadata": {},
   "source": [
    "## Add text to video and also add current date and time "
   ]
  },
  {
   "cell_type": "code",
   "execution_count": 1,
   "metadata": {},
   "outputs": [],
   "source": [
    "import cv2 as cv\n",
    "import datetime"
   ]
  },
  {
   "cell_type": "code",
   "execution_count": 2,
   "metadata": {},
   "outputs": [
    {
     "name": "stdout",
     "output_type": "stream",
     "text": [
      "720.0\n",
      "1280.0\n"
     ]
    },
    {
     "data": {
      "text/plain": [
       "-1"
      ]
     },
     "execution_count": 2,
     "metadata": {},
     "output_type": "execute_result"
    }
   ],
   "source": [
    "#add text value on video\n",
    "\n",
    "cap = cv.VideoCapture(0)\n",
    "\n",
    "\n",
    "print(cap.get(4)) #Every cam property (CAP_PROP_FRAME_HEIGHT) has value here is 4.\n",
    "print(cap.get(3)) #CAP_PROP_FRAME_WIDTH = 3\n",
    "\n",
    "while (cap.isOpened()):\n",
    "    ret, frame = cap.read() #ret is boolean\n",
    "    \n",
    "    if ret == True: #check if ret is true\n",
    "    \n",
    "        font = cv.FONT_HERSHEY_PLAIN\n",
    "        text = 'Width: '+str(cap.get(3))+' Height: '+str(cap.get(4))\n",
    "        \n",
    "        #values:(video, text, startpoint, font, fontsize, colorof text, thickness, linetype)\n",
    "        frame = cv.putText(frame, text, (10,20), font, 3, (0,0,0), 1, cv.LINE_AA) \n",
    "        \n",
    "        cv.imshow('frame', frame)\n",
    "    \n",
    "        if cv.waitKey(1) & 0xFF == ord('q'): # pressing q key on keyboard to quit.\n",
    "            break\n",
    "    else:\n",
    "        break\n",
    "\n",
    "cap.release()\n",
    "cv.destroyAllWindows()\n",
    "cv.waitKey(1)\n",
    "cv.waitKey(1)\n",
    "cv.waitKey(1)\n",
    "cv.waitKey(1)\n"
   ]
  },
  {
   "cell_type": "code",
   "execution_count": 4,
   "metadata": {},
   "outputs": [
    {
     "name": "stdout",
     "output_type": "stream",
     "text": [
      "720.0\n",
      "1280.0\n"
     ]
    },
    {
     "data": {
      "text/plain": [
       "-1"
      ]
     },
     "execution_count": 4,
     "metadata": {},
     "output_type": "execute_result"
    }
   ],
   "source": [
    "#add date time\n",
    "\n",
    "\n",
    "cap = cv.VideoCapture(0)\n",
    "\n",
    "\n",
    "print(cap.get(4)) #Every cam property (CAP_PROP_FRAME_HEIGHT) has value here is 4.\n",
    "print(cap.get(3)) #CAP_PROP_FRAME_WIDTH = 3\n",
    "\n",
    "while (cap.isOpened()):\n",
    "    ret, frame = cap.read() #ret is boolean\n",
    "    \n",
    "    if ret == True: #check if ret is true\n",
    "    \n",
    "        font = cv.FONT_HERSHEY_PLAIN \n",
    "        text = 'Width: '+str(cap.get(3))+' Height: '+str(cap.get(4)) #convert height and widht value to string\n",
    "        dt = str(datetime.datetime.now()) #to get the current date time\n",
    "        \n",
    "        #values:(video, text, startpoint, font, fontsize, colorof text, thickness, linetype)\n",
    "        frame = cv.putText(frame, dt, (10,50), font, 3, (0,0,0), 1, cv.LINE_AA) \n",
    "        \n",
    "        cv.imshow('frame', frame)\n",
    "    \n",
    "        if cv.waitKey(1) & 0xFF == ord('q'): # pressing q key on keyboard to quit.\n",
    "            break\n",
    "    else:\n",
    "        break\n",
    "\n",
    "cap.release()\n",
    "cv.destroyAllWindows()\n",
    "cv.waitKey(1)\n",
    "cv.waitKey(1)\n",
    "cv.waitKey(1)\n",
    "cv.waitKey(1)\n"
   ]
  },
  {
   "cell_type": "code",
   "execution_count": null,
   "metadata": {},
   "outputs": [],
   "source": []
  }
 ],
 "metadata": {
  "kernelspec": {
   "display_name": "Python 3",
   "language": "python",
   "name": "python3"
  },
  "language_info": {
   "codemirror_mode": {
    "name": "ipython",
    "version": 3
   },
   "file_extension": ".py",
   "mimetype": "text/x-python",
   "name": "python",
   "nbconvert_exporter": "python",
   "pygments_lexer": "ipython3",
   "version": "3.8.5"
  }
 },
 "nbformat": 4,
 "nbformat_minor": 2
}
