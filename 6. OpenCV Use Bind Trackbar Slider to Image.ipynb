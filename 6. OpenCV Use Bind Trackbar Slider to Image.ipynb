{
 "cells": [
  {
   "cell_type": "markdown",
   "metadata": {},
   "source": [
    "## Trackbar\n",
    "\n",
    "Trackbar are useful when to change value of inage dynamically during run time. Opens image with slider bar to change values of BGR index. "
   ]
  },
  {
   "cell_type": "code",
   "execution_count": 35,
   "metadata": {},
   "outputs": [],
   "source": [
    "import numpy as np\n",
    "import cv2 as cv\n",
    "import matplotlib.pyplot as plt"
   ]
  },
  {
   "cell_type": "code",
   "execution_count": 36,
   "metadata": {},
   "outputs": [],
   "source": [
    "#create calllback function, takes values x. Value of current position of trackbar\n",
    "\n",
    "def nothing(x):\n",
    "    print(x) #we will know the position if it changes"
   ]
  },
  {
   "cell_type": "code",
   "execution_count": 37,
   "metadata": {},
   "outputs": [],
   "source": [
    "#create black image\n",
    "\n",
    "img = np.zeros((300, 512, 3), np.uint8)"
   ]
  },
  {
   "cell_type": "code",
   "execution_count": 25,
   "metadata": {},
   "outputs": [
    {
     "data": {
      "text/plain": [
       "<matplotlib.image.AxesImage at 0x7fc0debbcc10>"
      ]
     },
     "execution_count": 25,
     "metadata": {},
     "output_type": "execute_result"
    },
    {
     "data": {
      "image/png": "[encoded data removed]",
      "text/plain": [
       "<Figure size 432x288 with 1 Axes>"
      ]
     },
     "metadata": {
      "needs_background": "light"
     },
     "output_type": "display_data"
    }
   ],
   "source": [
    "plt.imshow(image)"
   ]
  },
  {
   "cell_type": "code",
   "execution_count": 48,
   "metadata": {},
   "outputs": [],
   "source": [
    "cv.namedWindow('image') #o create a window with name"
   ]
  },
  {
   "cell_type": "code",
   "execution_count": 50,
   "metadata": {},
   "outputs": [
    {
     "data": {
      "text/plain": [
       "-1"
      ]
     },
     "execution_count": 50,
     "metadata": {},
     "output_type": "execute_result"
    }
   ],
   "source": [
    "#can create multiple trackbar in a image. \n",
    "#values: (TrackbarName, ImageName(we defined), value at which trackbar is set, count final value of trackbar,\n",
    "#         call back function whnever the trackbar value changes)\n",
    "\n",
    "cv.createTrackbar('B', 'image', 0, 255, nothing) \n",
    "cv.createTrackbar('G', 'image', 0, 255, nothing) \n",
    "cv.createTrackbar('R', 'image', 0, 255, nothing) \n",
    "\n",
    "#this will add switch to trackbar\n",
    "switch = '0: OFF\\n 1: ON' #giving the sitch name\n",
    "cv.createTrackbar(switch, 'image', 0, 1, nothing) #will have same parameters as above\n",
    "\n",
    "while (1):\n",
    "    \n",
    "    cv.imshow('image', img)\n",
    "    k = cv.waitKey(1) & 0xFF\n",
    "    \n",
    "    if k ==27:\n",
    "        break\n",
    "\n",
    "    #Now to get current value of each channel we find the position of each trackbar\n",
    "    #value:(TrackbarName, Name of window in which the trackbar present)\n",
    "    \n",
    "    b = cv.getTrackbarPos('B', 'image') \n",
    "    g = cv.getTrackbarPos('G', 'image')\n",
    "    r = cv.getTrackbarPos('R', 'image')\n",
    "    s = cv.getTrackbarPos(switch, 'image') # name of switch is defined up.\n",
    "    \n",
    "    \n",
    "    if s == 0:\n",
    "        img[:] = 0 # set to do nothing if the tracker position is 0\n",
    "    else:\n",
    "        #we want the trackbar to change image BGR value only if swtich is 1\n",
    "        #Now set these value to image. set the current BGR value to image\n",
    "        img[:] = [b, g, r]\n",
    "    \n",
    "\n",
    "\n",
    "cv.destroyAllWindows()\n",
    "cv.waitKey(1)\n",
    "cv.waitKey(1)\n",
    "cv.waitKey(1)\n",
    "cv.waitKey(1)"
   ]
  },
  {
   "cell_type": "code",
   "execution_count": 57,
   "metadata": {},
   "outputs": [
    {
     "name": "stdout",
     "output_type": "stream",
     "text": [
      "10\n",
      "14\n",
      "61\n",
      "108\n",
      "109\n",
      "127\n",
      "143\n",
      "145\n",
      "143\n",
      "142\n",
      "141\n",
      "139\n",
      "138\n",
      "133\n",
      "132\n",
      "132\n",
      "132\n",
      "135\n",
      "193\n",
      "197\n",
      "220\n",
      "221\n",
      "225\n",
      "225\n"
     ]
    },
    {
     "data": {
      "text/plain": [
       "-1"
      ]
     },
     "execution_count": 57,
     "metadata": {},
     "output_type": "execute_result"
    }
   ],
   "source": [
    "#on this example of trackbar, we want to change value of image and print that value on image\n",
    "\n",
    "\n",
    "#img = cv.imread(\"sunset1.jpeg\", 1)\n",
    "\n",
    "cv.namedWindow('image')\n",
    "\n",
    "cv.createTrackbar('Cur.Pos.', 'image', 10, 400, nothing) \n",
    "\n",
    "\n",
    "#this will add switch to trackbar\n",
    "switch = '0: Color\\n 1: Black/White' #this switch is to toggle between color image and grayscale image\n",
    "cv.createTrackbar(switch, 'image', 0, 1, nothing) #will have same parameters as above\n",
    "\n",
    "while (1):\n",
    "    \n",
    "    img = cv.imread(\"sunset1.jpeg\")\n",
    "    \n",
    "    pos = cv.getTrackbarPos('Cur.Pos', 'image') #get current position of the trackbar\n",
    "    \n",
    "    font = cv.FONT_HERSHEY_PLAIN\n",
    "    cv.putText(img, str(pos), (50,150), font, 2, (0,0,255), 2) #this to add text to image \n",
    "    \n",
    "    k = cv.waitKey(1) & 0xFF\n",
    "    if k ==27:\n",
    "        break\n",
    "\n",
    "    s = cv.getTrackbarPos(switch, 'image') # name of switch is defined up.\n",
    "    \n",
    "    \n",
    "    if s == 0:\n",
    "        pass #at current position dont want to do anything\n",
    "    else:\n",
    "        img = cv.cvtColor(img, cv.COLOR_BGR2GRAY) #if switched to 1 then change image to grayscale image\n",
    "    \n",
    "    img = cv.imshow('image', img) #we want image to be displayed after if statement\n",
    "\n",
    "\n",
    "cv.destroyAllWindows()\n",
    "cv.waitKey(1)\n",
    "cv.waitKey(1)\n",
    "cv.waitKey(1)\n",
    "cv.waitKey(1)"
   ]
  },
  {
   "cell_type": "code",
   "execution_count": 54,
   "metadata": {},
   "outputs": [
    {
     "data": {
      "text/plain": [
       "-1"
      ]
     },
     "execution_count": 54,
     "metadata": {},
     "output_type": "execute_result"
    }
   ],
   "source": [
    "cv.destroyAllWindows()\n",
    "cv.waitKey(1)\n",
    "cv.waitKey(1)\n",
    "cv.waitKey(1)\n",
    "cv.waitKey(1)"
   ]
  },
  {
   "cell_type": "code",
   "execution_count": null,
   "metadata": {},
   "outputs": [],
   "source": []
  }
 ],
 "metadata": {
  "kernelspec": {
   "display_name": "Python 3",
   "language": "python",
   "name": "python3"
  },
  "language_info": {
   "codemirror_mode": {
    "name": "ipython",
    "version": 3
   },
   "file_extension": ".py",
   "mimetype": "text/x-python",
   "name": "python",
   "nbconvert_exporter": "python",
   "pygments_lexer": "ipython3",
   "version": "3.7.4"
  }
 },
 "nbformat": 4,
 "nbformat_minor": 2
}
