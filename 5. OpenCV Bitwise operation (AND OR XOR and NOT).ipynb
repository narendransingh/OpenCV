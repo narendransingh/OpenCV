{
 "cells": [
  {
   "cell_type": "markdown",
   "metadata": {},
   "source": [
    "# Bitwise Operation on Images\n",
    "\n",
    "we will see AND OR NOT and XOR operation on image. It is very useful when working with mask, marks are binary image indexes pixels where opertation is to be performed."
   ]
  },
  {
   "cell_type": "code",
   "execution_count": 73,
   "metadata": {},
   "outputs": [],
   "source": [
    "import cv2 as cv\n",
    "import matplotlib.pyplot as plt\n",
    "import numpy as np"
   ]
  },
  {
   "cell_type": "code",
   "execution_count": 74,
   "metadata": {},
   "outputs": [],
   "source": [
    "image = np.zeros((250,500,3), np.uint8)\n",
    "img = np.zeros((250,500,3), np.uint8)"
   ]
  },
  {
   "cell_type": "code",
   "execution_count": 75,
   "metadata": {},
   "outputs": [],
   "source": [
    "image1 = cv.rectangle(image, (200,0), (300,100), (255,255,255), -1)"
   ]
  },
  {
   "cell_type": "code",
   "execution_count": 76,
   "metadata": {},
   "outputs": [],
   "source": [
    "image2 = cv.rectangle(img, (250,0), (500,250), (255,255,255), -1)"
   ]
  },
  {
   "cell_type": "code",
   "execution_count": 38,
   "metadata": {},
   "outputs": [
    {
     "data": {
      "text/plain": [
       "-1"
      ]
     },
     "execution_count": 38,
     "metadata": {},
     "output_type": "execute_result"
    }
   ],
   "source": [
    "cv.imshow('image1', image1)\n",
    "cv.imshow('image2', image2)\n",
    "\n",
    "cv.waitKey(0)\n",
    "cv.destroyAllWindows()\n",
    "cv.waitKey(1)\n",
    "cv.waitKey(1)\n",
    "cv.waitKey(1)\n",
    "cv.waitKey(1)"
   ]
  },
  {
   "cell_type": "code",
   "execution_count": 77,
   "metadata": {},
   "outputs": [
    {
     "data": {
      "text/plain": [
       "<matplotlib.image.AxesImage at 0x7fc87248bc10>"
      ]
     },
     "execution_count": 77,
     "metadata": {},
     "output_type": "execute_result"
    },
    {
     "data": {
      "image/png": "[encoded data removed]",
      "text/plain": [
       "<Figure size 432x288 with 1 Axes>"
      ]
     },
     "metadata": {
      "needs_background": "light"
     },
     "output_type": "display_data"
    }
   ],
   "source": [
    "plt.imshow(image2)"
   ]
  },
  {
   "cell_type": "code",
   "execution_count": 78,
   "metadata": {},
   "outputs": [
    {
     "data": {
      "text/plain": [
       "<matplotlib.image.AxesImage at 0x7fc874a45710>"
      ]
     },
     "execution_count": 78,
     "metadata": {},
     "output_type": "execute_result"
    },
    {
     "data": {
      "image/png": "[encoded data removed]",
      "text/plain": [
       "<Figure size 432x288 with 1 Axes>"
      ]
     },
     "metadata": {
      "needs_background": "light"
     },
     "output_type": "display_data"
    }
   ],
   "source": [
    "plt.imshow(image1)"
   ]
  },
  {
   "cell_type": "markdown",
   "metadata": {},
   "source": [
    "# Bitwise opertion:"
   ]
  },
  {
   "cell_type": "markdown",
   "metadata": {},
   "source": [
    "The logic of gates:\n",
    "\n",
    "AND: A AND B provides Q i.e will turn ON region ONLY which has both 1:\n",
    "\n",
    "B      A       Q\n",
    "0      0       0\n",
    "0      1       0\n",
    "1      0       0\n",
    "1      1       1 "
   ]
  },
  {
   "cell_type": "code",
   "execution_count": 63,
   "metadata": {},
   "outputs": [
    {
     "data": {
      "text/plain": [
       "<matplotlib.image.AxesImage at 0x7fc874962310>"
      ]
     },
     "execution_count": 63,
     "metadata": {},
     "output_type": "execute_result"
    },
    {
     "data": {
      "image/png": "[encoded data removed]",
      "text/plain": [
       "<Figure size 432x288 with 3 Axes>"
      ]
     },
     "metadata": {
      "needs_background": "light"
     },
     "output_type": "display_data"
    }
   ],
   "source": [
    "#AND works will give the common region in both the image, the common whites are numpy ones. AND ONLY 1 turn ON\n",
    "\n",
    "bitAnd = cv.bitwise_and(image2, image1)\n",
    "\n",
    "plt.subplot(3,1,1)\n",
    "plt.imshow(image2)\n",
    "plt.subplot(3,1,2)\n",
    "plt.imshow(image1)\n",
    "plt.subplot(3,1,3)\n",
    "plt.imshow(bitAnd) "
   ]
  },
  {
   "cell_type": "markdown",
   "metadata": {},
   "source": [
    "The logic of gates:\n",
    "\n",
    "OR: A OR B provides Q i.e will turn ON region ANY gate which has  1:\n",
    "\n",
    "B      A       Q\n",
    "0      0       0\n",
    "0      1       1\n",
    "1      0       1\n",
    "1      1       1 "
   ]
  },
  {
   "cell_type": "code",
   "execution_count": 65,
   "metadata": {},
   "outputs": [
    {
     "data": {
      "text/plain": [
       "<matplotlib.image.AxesImage at 0x7fc874e81ed0>"
      ]
     },
     "execution_count": 65,
     "metadata": {},
     "output_type": "execute_result"
    },
    {
     "data": {
      "image/png": "[encoded data removed]",
      "text/plain": [
       "<Figure size 432x288 with 3 Axes>"
      ]
     },
     "metadata": {
      "needs_background": "light"
     },
     "output_type": "display_data"
    }
   ],
   "source": [
    "#OR work any of the image have it will show. Any value which has 1 value will turn ON the image.\n",
    "\n",
    "bitOR = cv.bitwise_or(image2, image1)\n",
    "\n",
    "plt.subplot(3,1,1)\n",
    "plt.imshow(image2)\n",
    "plt.subplot(3,1,2)\n",
    "plt.imshow(image1)\n",
    "plt.subplot(3,1,3)\n",
    "plt.imshow(bitOR) "
   ]
  },
  {
   "cell_type": "markdown",
   "metadata": {},
   "source": [
    "The logic of gates:\n",
    "\n",
    "XOR: A OR B provides Q i.e will turn ON region only if is ODD:\n",
    "\n",
    "B      A       Q\n",
    "0      0       0\n",
    "0      1       1\n",
    "1      0       1\n",
    "1      1       0 "
   ]
  },
  {
   "cell_type": "code",
   "execution_count": 79,
   "metadata": {},
   "outputs": [
    {
     "data": {
      "text/plain": [
       "<matplotlib.image.AxesImage at 0x7fc876778c10>"
      ]
     },
     "execution_count": 79,
     "metadata": {},
     "output_type": "execute_result"
    },
    {
     "data": {
      "image/png": "[encoded data removed]",
      "text/plain": [
       "<Figure size 432x288 with 3 Axes>"
      ]
     },
     "metadata": {
      "needs_background": "light"
     },
     "output_type": "display_data"
    }
   ],
   "source": [
    "#XOR work any of the image have it will show. XOR is ONLY if the region is ODD.\n",
    "\n",
    "bitXOR = cv.bitwise_xor(image1, image2)\n",
    "\n",
    "plt.subplot(3,1,1)\n",
    "plt.imshow(image2)\n",
    "plt.subplot(3,1,2)\n",
    "plt.imshow(image1)\n",
    "plt.subplot(3,1,3)\n",
    "plt.imshow(bitXOR) "
   ]
  },
  {
   "cell_type": "markdown",
   "metadata": {},
   "source": [
    "The logic of gates:\n",
    "\n",
    "NOT: A OR B provides Q i.e oposite of the iamge\n",
    "\n",
    "B      A       Q\n",
    "0      0       1\n",
    "0      1       1\n",
    "1      0       1\n",
    "1      1       0 "
   ]
  },
  {
   "cell_type": "code",
   "execution_count": 70,
   "metadata": {},
   "outputs": [
    {
     "data": {
      "text/plain": [
       "<matplotlib.image.AxesImage at 0x7fc875c78a50>"
      ]
     },
     "execution_count": 70,
     "metadata": {},
     "output_type": "execute_result"
    },
    {
     "data": {
      "image/png": "[encoded data removed]",
      "text/plain": [
       "<Figure size 432x288 with 2 Axes>"
      ]
     },
     "metadata": {
      "needs_background": "light"
     },
     "output_type": "display_data"
    }
   ],
   "source": [
    "#NOT work any of the image have it will show. \n",
    "\n",
    "bitNOT = cv.bitwise_not(image1)\n",
    "\n",
    "#plt.subplot(3,1,1)\n",
    "#plt.imshow(image2)\n",
    "plt.subplot(3,1,2)\n",
    "plt.imshow(image1)\n",
    "plt.subplot(3,1,3)\n",
    "plt.imshow(bitNOT) "
   ]
  },
  {
   "cell_type": "code",
   "execution_count": null,
   "metadata": {},
   "outputs": [],
   "source": []
  }
 ],
 "metadata": {
  "kernelspec": {
   "display_name": "Python 3",
   "language": "python",
   "name": "python3"
  },
  "language_info": {
   "codemirror_mode": {
    "name": "ipython",
    "version": 3
   },
   "file_extension": ".py",
   "mimetype": "text/x-python",
   "name": "python",
   "nbconvert_exporter": "python",
   "pygments_lexer": "ipython3",
   "version": "3.7.4"
  }
 },
 "nbformat": 4,
 "nbformat_minor": 2
}
