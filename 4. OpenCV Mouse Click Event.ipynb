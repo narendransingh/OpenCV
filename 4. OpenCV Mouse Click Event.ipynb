{
 "cells": [
  {
   "cell_type": "markdown",
   "metadata": {},
   "source": [
    "# Mouse Click Event\n",
    "Mouse click event, left click event, right click event available in cv package"
   ]
  },
  {
   "cell_type": "code",
   "execution_count": 1,
   "metadata": {},
   "outputs": [],
   "source": [
    "import cv2 as cv\n",
    "import numpy as np"
   ]
  },
  {
   "cell_type": "code",
   "execution_count": 6,
   "metadata": {},
   "outputs": [
    {
     "name": "stdout",
     "output_type": "stream",
     "text": [
      "['EVENT_FLAG_ALTKEY', 'EVENT_FLAG_CTRLKEY', 'EVENT_FLAG_LBUTTON', 'EVENT_FLAG_MBUTTON', 'EVENT_FLAG_RBUTTON', 'EVENT_FLAG_SHIFTKEY', 'EVENT_LBUTTONDBLCLK', 'EVENT_LBUTTONDOWN', 'EVENT_LBUTTONUP', 'EVENT_MBUTTONDBLCLK', 'EVENT_MBUTTONDOWN', 'EVENT_MBUTTONUP', 'EVENT_MOUSEHWHEEL', 'EVENT_MOUSEMOVE', 'EVENT_MOUSEWHEEL', 'EVENT_RBUTTONDBLCLK', 'EVENT_RBUTTONDOWN', 'EVENT_RBUTTONUP']\n"
     ]
    }
   ],
   "source": [
    "#variable call events to iterate all events in cv lib.\n",
    "#dir method is inbuilt method will show all classes and function inside cv2 package\n",
    "\n",
    "events = [i for i in dir(cv) if 'EVENT' in i] #dir inbuilt method\n",
    "print(events)"
   ]
  },
  {
   "cell_type": "code",
   "execution_count": 8,
   "metadata": {},
   "outputs": [
    {
     "name": "stdout",
     "output_type": "stream",
     "text": [
      "69 , 136\n",
      "96 , 198\n",
      "93 , 248\n",
      "241 , 292\n",
      "292 , 200\n",
      "294 , 208\n",
      "295 , 217\n",
      "299 , 232\n",
      "283 , 355\n",
      "173 , 359\n",
      "224 , 438\n",
      "27 , 394\n",
      "36 , 342\n"
     ]
    },
    {
     "data": {
      "text/plain": [
       "-1"
      ]
     },
     "execution_count": 8,
     "metadata": {},
     "output_type": "execute_result"
    }
   ],
   "source": [
    "#Create program to listen for mouse event. First to create mouse callback function, when mouse event happens.\n",
    "\n",
    "\n",
    "def clickevent(event, x, y, flags, param): #callfunction to return click event and its x-axis and y-axis value, flags and parameters\n",
    "    if event == cv.EVENT_LBUTTONDOWN: #event when left button down click\n",
    "        \n",
    "        print(x ,',', y) # provides x and y coordinates on python screen\n",
    "        font = cv.FONT_HERSHEY_SIMPLEX\n",
    "        strXY = str(x)+','+str(y)\n",
    "        cv.putText(image, strXY, (x, y), font, 1, (255,25,0), 1) #this will add text to image\n",
    "        cv.imshow('imageblack', image) # \"name of image\" image should be consistent with image\n",
    "\n",
    "        \n",
    "\n",
    "image = np.zeros((512,512,3), np.uint8)\n",
    "cv.imshow(\"imageblack\", image)\n",
    "\n",
    "\n",
    "#call mouse callback to call clickevent when anyone click on image\n",
    "cv.setMouseCallback('imageblack', clickevent) #it had image name and callback function as event to happen on image\n",
    "    \n",
    "cv.waitKey(0)\n",
    "cv.destroyAllWindows()\n",
    "cv.waitKey(1)\n",
    "cv.waitKey(1)\n",
    "cv.waitKey(1)\n",
    "cv.waitKey(1)"
   ]
  },
  {
   "cell_type": "code",
   "execution_count": 11,
   "metadata": {},
   "outputs": [
    {
     "name": "stdout",
     "output_type": "stream",
     "text": [
      "138 , 128\n",
      "75 , 96\n",
      "46 , 59\n",
      "259 , 20\n"
     ]
    },
    {
     "data": {
      "text/plain": [
       "-1"
      ]
     },
     "execution_count": 11,
     "metadata": {},
     "output_type": "execute_result"
    }
   ],
   "source": [
    "#Add right click event and left click event\n",
    "\n",
    "\n",
    "def clickevent(event, x, y, flags, param): #callfunction to return click event and its x-axis and y-axis value, flags and parameters\n",
    "    \n",
    "    if event == cv.EVENT_LBUTTONDOWN: #event when left button down click\n",
    "        \n",
    "        print(x ,',', y) # provides x and y coordinates on image\n",
    "        font = cv.FONT_HERSHEY_SIMPLEX\n",
    "        strXY = str(x)+','+str(y)\n",
    "        cv.putText(image, strXY, (x, y), font, 0.5, (255,25,0), 2) #this will add text to image\n",
    "        cv.imshow('imageblack', image) # \"name of image\" image should be consistent with image\n",
    "    \n",
    "    if event == cv.EVENT_RBUTTONDOWN: # event for right button clicked\n",
    "        \n",
    "        #print BGR channel where we clicked\n",
    "        blue = image[x, y, 0] # privides the x and y cordinate and 0 --> is blue channel\n",
    "        green = image[x, y, 1] # privides the x and y cordinate and 1 --> is green channel\n",
    "        red = image[x, y, 2] # privides the x and y cordinate and 2 --> is red channel\n",
    "        \n",
    "        \n",
    "        font = cv.FONT_HERSHEY_SIMPLEX\n",
    "        BGR = str(blue)+', '+str(green)+', '+str(red) #use this as text to display on image\n",
    "        cv.putText(image, BGR, (x, y), font, 0.5, (0,0,255), 2) #this will add text to image\n",
    "        cv.imshow('imageblack', image) # \"name of image\" image should be consistent with image\n",
    "    \n",
    "\n",
    "        \n",
    "\n",
    "image = cv.imread('sunset1.jpeg', 1)\n",
    "cv.imshow(\"imageblack\", image)\n",
    "\n",
    "\n",
    "#call mouse callback to call clickevent when anyone click on image\n",
    "cv.setMouseCallback('imageblack', clickevent) #it had image name and callback function as event to happen on image\n",
    "    \n",
    "cv.waitKey(0)\n",
    "cv.destroyAllWindows()\n",
    "cv.waitKey(1)\n",
    "cv.waitKey(1)\n",
    "cv.waitKey(1)\n",
    "cv.waitKey(1)"
   ]
  },
  {
   "cell_type": "markdown",
   "metadata": {},
   "source": [
    "### Dawing point and connecting those points using line."
   ]
  },
  {
   "cell_type": "markdown",
   "metadata": {},
   "source": [
    "Everytime on click on odd left button we draw a small circle point, and on second click button we connect those two points using line."
   ]
  },
  {
   "cell_type": "code",
   "execution_count": 9,
   "metadata": {},
   "outputs": [
    {
     "data": {
      "text/plain": [
       "-1"
      ]
     },
     "execution_count": 9,
     "metadata": {},
     "output_type": "execute_result"
    }
   ],
   "source": [
    "#define the callback function\n",
    "\n",
    "def clickevent(event, x, y, flags, param): #callfunction to return click event and its x-axis and y-axis value, flags and parameters\n",
    "    \n",
    "    if event == cv.EVENT_LBUTTONDOWN: #event when left button down click\n",
    "        \n",
    "        cv.circle(image, (x,y), 4, (255,255,255), -1) #input(image, x and y coordinate, radius of circle, color, thickness -fillcircle(-1))\n",
    "        points.append((x,y)) #saving points in array, so where is clicked and saving the coordinates\n",
    "        \n",
    "        if len(points)>=2: #when we have 2 points we want to connect with line.\n",
    "            \n",
    "            # xcoordinate: points[-1] --> last element in list and  ycoordinate:points[-2]-->second last element in array\n",
    "            #value for line(image, xcoordinate, ycordinate, color, thickness)\n",
    "            \n",
    "            cv.line(image, points[-1], points[-2], (255,0,0), 5) \n",
    "            cv.imshow('imageblack', image) # \"name of image\" image should be consistent with image\n",
    "\n",
    "        \n",
    "\n",
    "image = np.zeros((512,512, 3), np.uint8) #512 size black image (zeros are all black)\n",
    "cv.imshow(\"imageblack\", image)\n",
    "points = [] #empty list, will be used in callback function\n",
    "\n",
    "\n",
    "#call mouse callback to call clickevent when anyone click on image\n",
    "cv.setMouseCallback('imageblack', clickevent) #it had image name and callback function as event to happen on image\n",
    "    \n",
    "cv.waitKey(0)\n",
    "cv.destroyAllWindows()\n",
    "cv.waitKey(1)\n",
    "cv.waitKey(1)\n",
    "cv.waitKey(1)\n",
    "cv.waitKey(1)"
   ]
  },
  {
   "cell_type": "markdown",
   "metadata": {},
   "source": [
    "### Open new window\n",
    "\n",
    "read image, then click on point on image, show the color of point using second window."
   ]
  },
  {
   "cell_type": "code",
   "execution_count": 16,
   "metadata": {},
   "outputs": [
    {
     "data": {
      "text/plain": [
       "-1"
      ]
     },
     "execution_count": 16,
     "metadata": {},
     "output_type": "execute_result"
    }
   ],
   "source": [
    "def clickevent(event, x, y, flags, param): #callfunction to return click event and its x-axis and y-axis value, flags and parameters\n",
    "    \n",
    "    if event == cv.EVENT_LBUTTONDOWN: #event when left button down click\n",
    "        \n",
    "        #print BGR channel where we clicked\n",
    "        blue = image[x, y, 0] # privides the x and y cordinate and 0 --> is blue channel\n",
    "        green = image[x, y, 1] # privides the x and y cordinate and 1 --> is green channel\n",
    "        red = image[x, y, 2] # privides the x and y cordinate and 2 --> is red channel\n",
    "        \n",
    "        cv.circle(image, (x,y), 3, (0, 0, 255), -1)\n",
    "        \n",
    "        #we will create another image of all black background and display BGR coordinate on it.\n",
    "        \n",
    "        BGRcolor = np.zeros((183, 275, 3), np.uint8) #create black background image\n",
    "        BGRcolor[:] = [blue, green, red] #list the color coordinate found in this list.\n",
    "        \n",
    "        #cv.putText(BGRcolor, str(BGRcolor))\n",
    "\n",
    "        cv.imshow('colorwindow', BGRcolor) # \"name of image\" image should be consistent with image\n",
    "\n",
    "        \n",
    "\n",
    "image = cv.imread('sunset1.jpeg', 1)\n",
    "cv.imshow(\"imageblack\", image)\n",
    "points = [] #empty list, will be used in callback function\n",
    "\n",
    "\n",
    "#call mouse callback to call clickevent when anyone click on image\n",
    "cv.setMouseCallback('imageblack', clickevent) #it had image name and callback function as event to happen on image\n",
    "    \n",
    "cv.waitKey(0)\n",
    "cv.destroyAllWindows()\n",
    "cv.waitKey(1)\n",
    "cv.waitKey(1)\n",
    "cv.waitKey(1)\n",
    "cv.waitKey(1)"
   ]
  },
  {
   "cell_type": "code",
   "execution_count": 15,
   "metadata": {},
   "outputs": [
    {
     "data": {
      "text/plain": [
       "(183, 275, 3)"
      ]
     },
     "execution_count": 15,
     "metadata": {},
     "output_type": "execute_result"
    }
   ],
   "source": [
    "image.shape"
   ]
  }
 ],
 "metadata": {
  "kernelspec": {
   "display_name": "Python 3",
   "language": "python",
   "name": "python3"
  },
  "language_info": {
   "codemirror_mode": {
    "name": "ipython",
    "version": 3
   },
   "file_extension": ".py",
   "mimetype": "text/x-python",
   "name": "python",
   "nbconvert_exporter": "python",
   "pygments_lexer": "ipython3",
   "version": "3.7.4"
  }
 },
 "nbformat": 4,
 "nbformat_minor": 2
}
