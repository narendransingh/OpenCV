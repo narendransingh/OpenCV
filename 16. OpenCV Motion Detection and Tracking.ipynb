{
 "cells": [
  {
   "cell_type": "markdown",
   "metadata": {},
   "source": [
    "## Motion Detection and Tracking using OpenCV\n",
    "\n",
    "Basic motion detection. We will try to track when there is movement in the video will have rectangle around the it. Also we will put the status movement when there is movement around the video"
   ]
  },
  {
   "cell_type": "code",
   "execution_count": 35,
   "metadata": {},
   "outputs": [],
   "source": [
    "import cv2 as cv\n",
    "import matplotlib.pyplot as plt\n",
    "import numpy as np"
   ]
  },
  {
   "cell_type": "code",
   "execution_count": 45,
   "metadata": {},
   "outputs": [
    {
     "name": "stdout",
     "output_type": "stream",
     "text": [
      "True\n"
     ]
    }
   ],
   "source": [
    "#Read teh video\n",
    "\n",
    "cap = cv.VideoCapture('vtest.avi')\n",
    "\n",
    "print(cap.isOpened()) #prints True if it has find the file"
   ]
  },
  {
   "cell_type": "code",
   "execution_count": 46,
   "metadata": {},
   "outputs": [],
   "source": [
    "# we shall read two frames from cap instance\n",
    "\n",
    "ret,frame1 = cap.read() #first frame\n",
    "ret,frame2 = cap.read() #second frame \n"
   ]
  },
  {
   "cell_type": "markdown",
   "metadata": {},
   "source": [
    "### PASS 1 - Running the above code, there are few unwanted contours detected for we want to remove. Also have rectangle over the moving object"
   ]
  },
  {
   "cell_type": "code",
   "execution_count": 30,
   "metadata": {},
   "outputs": [
    {
     "data": {
      "text/plain": [
       "-1"
      ]
     },
     "execution_count": 30,
     "metadata": {},
     "output_type": "execute_result"
    }
   ],
   "source": [
    "while cap.isOpened():\n",
    "    \n",
    "    #ret,frame = cap.read()\n",
    "    #create variable for absolute difference between first frame and second frame.\n",
    "    diff = cv.absdiff(frame1, frame2) \n",
    "    \n",
    "    #convert the difference to greyscale\n",
    "    gray = cv.cvtColor(diff, cv.COLOR_BGR2GRAY) #to find contours, and easier to find contour in greyscale\n",
    "    \n",
    "    #Blur our grayscale values:(image, with kernel of size 5, sigmaX)\n",
    "    blur = cv.GaussianBlur(gray, (5,5), 0)\n",
    "    \n",
    "    #Find threshold, we dont need the first parameter so _. Values:(image, threvalue, maxthres, type )\n",
    "    _,thres = cv.threshold(blur, 20, 255, cv.THRESH_BINARY)\n",
    "    \n",
    "    #Dilate the thres image to fill all holes. values:(img, kernel, no. of iteration)\n",
    "    dilated = cv.dilate(thres, None, 3)\n",
    "    \n",
    "    #find contours. values:(img, mode, method)\n",
    "    contours,_ = cv.findContours(dilated, cv.RETR_TREE, cv.CHAIN_APPROX_SIMPLE)\n",
    "    \n",
    "    #draw the contours.Values:(image-we want to draw on original frames, contours, contourID(-1 for all),thickness) \n",
    "    cv.drawContours(frame1, contours, -1, (0,255,0),2)\n",
    "    \n",
    "    \n",
    "    \n",
    "    cv.imshow('feed', frame1) #result afeter applying contour will be saved in this\n",
    "    \n",
    "    \n",
    "    #Assign value of frame 2 into frame1\n",
    "    frame1 = frame2\n",
    "    \n",
    "    \n",
    "    #Assign new value for read and store in frame2. \n",
    "    ret, frame2 = cap.read() \n",
    "    \n",
    "    #Above step - reading new frame in frame2. Before we assigning frame2 value to frame1. \n",
    "    #This way we reading the frames and finding difference between two frames  \n",
    "    \n",
    "    \n",
    "    if cv.waitKey(40) == 27:\n",
    "        break\n",
    "        \n",
    "\n",
    "cap.release()\n",
    "cv.destroyAllWindows()\n",
    "cv.waitKey(1)\n",
    "cv.waitKey(1)\n",
    "cv.waitKey(1)\n",
    "cv.waitKey(1)"
   ]
  },
  {
   "cell_type": "markdown",
   "metadata": {},
   "source": [
    "#### PASS 1 completed"
   ]
  },
  {
   "cell_type": "markdown",
   "metadata": {},
   "source": [
    "### PASS 2 - We will get the rectangles than contour lines."
   ]
  },
  {
   "cell_type": "code",
   "execution_count": 47,
   "metadata": {},
   "outputs": [
    {
     "data": {
      "text/plain": [
       "-1"
      ]
     },
     "execution_count": 47,
     "metadata": {},
     "output_type": "execute_result"
    }
   ],
   "source": [
    "while cap.isOpened():\n",
    "    \n",
    "    #ret,frame = cap.read()\n",
    "    #create variable for absolute difference between first frame and second frame.\n",
    "    diff = cv.absdiff(frame1, frame2) \n",
    "    \n",
    "    #convert the difference to greyscale\n",
    "    gray = cv.cvtColor(diff, cv.COLOR_BGR2GRAY) #to find contours, and easier to find contour in greyscale\n",
    "    \n",
    "    #Blur our grayscale values:(image, with kernel of size 5, sigmaX)\n",
    "    blur = cv.GaussianBlur(gray, (5,5), 0)\n",
    "    \n",
    "    #Find threshold, we dont need the first parameter so _. Values:(image, threvalue, maxthres, type )\n",
    "    _,thres = cv.threshold(blur, 20, 255, cv.THRESH_BINARY)\n",
    "    \n",
    "    #Dilate the thres image to fill all holes. values:(img, kernel, no. of iteration)\n",
    "    dilated = cv.dilate(thres, None, 3)\n",
    "    \n",
    "    #find contours. values:(img, mode, method)\n",
    "    contours,_ = cv.findContours(dilated, cv.RETR_TREE, cv.CHAIN_APPROX_SIMPLE)\n",
    "    \n",
    "    \n",
    "    #draw the contours.Values:(image-we want to draw on original frames, contours, contourID(-1 for all),thickness) \n",
    "    #cv.drawContours(frame1, contours, -1, (0,255,0),2)\n",
    "    #Since we dont want contour. We shall iterate over all contour to draw Rectangle\n",
    "    \n",
    "    for contour in contours:\n",
    "        \n",
    "        #we want to store all cordinates of the contours. METHOD boundingRECT to bind all contours.\n",
    "        (x, y, w, h) = cv.boundingRect(contour)\n",
    "        \n",
    "        #find the area of contour, to check if area is less than certain value we dont want do anything\n",
    "        if cv.contourArea(contour) < 700:\n",
    "            continue\n",
    "        \n",
    "        #draw rectangle. values:(image, pt1, pt2, color, thichkness)\n",
    "        cv.rectangle(frame1, (x,y), (x+w, y+h), (0,255,0), 2)\n",
    "        \n",
    "        #add text to moving objects. values:(image, text, cordinate of text, font, font_size, color, thickness)\n",
    "        cv.putText(frame1, 'Status: {}'.format('Movement'), (10,20), cv.FONT_HERSHEY_SIMPLEX, 1, (0,0,255), 3)\n",
    "    \n",
    "    \n",
    "    \n",
    "    cv.imshow('feed', frame1) #result afeter applying contour will be saved in this\n",
    "    \n",
    "    \n",
    "    #Assign value of frame 2 into frame1\n",
    "    frame1 = frame2\n",
    "    \n",
    "    \n",
    "    #Assign new value for read and store in frame2. \n",
    "    ret, frame2 = cap.read() \n",
    "    \n",
    "    #Above step - reading new frame in frame2. Before we assigning frame2 value to frame1. \n",
    "    #This way we reading the frames and finding difference between two frames  \n",
    "    \n",
    "    \n",
    "    if cv.waitKey(40) == 27:\n",
    "        break\n",
    "        \n",
    "\n",
    "cap.release()\n",
    "cv.destroyAllWindows()\n",
    "cv.waitKey(1)\n",
    "cv.waitKey(1)\n",
    "cv.waitKey(1)\n",
    "cv.waitKey(1)"
   ]
  },
  {
   "cell_type": "code",
   "execution_count": 40,
   "metadata": {},
   "outputs": [
    {
     "data": {
      "text/plain": [
       "-1"
      ]
     },
     "execution_count": 40,
     "metadata": {},
     "output_type": "execute_result"
    }
   ],
   "source": [
    "cap.release()\n",
    "cv.destroyAllWindows()\n",
    "cv.waitKey(1)\n",
    "cv.waitKey(1)\n",
    "cv.waitKey(1)\n",
    "cv.waitKey(1)"
   ]
  },
  {
   "cell_type": "code",
   "execution_count": null,
   "metadata": {},
   "outputs": [],
   "source": []
  }
 ],
 "metadata": {
  "kernelspec": {
   "display_name": "Python 3",
   "language": "python",
   "name": "python3"
  },
  "language_info": {
   "codemirror_mode": {
    "name": "ipython",
    "version": 3
   },
   "file_extension": ".py",
   "mimetype": "text/x-python",
   "name": "python",
   "nbconvert_exporter": "python",
   "pygments_lexer": "ipython3",
   "version": "3.7.4"
  }
 },
 "nbformat": 4,
 "nbformat_minor": 2
}
