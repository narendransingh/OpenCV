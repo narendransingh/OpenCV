{
 "cells": [
  {
   "cell_type": "markdown",
   "metadata": {},
   "source": [
    "### Detect Geometric Shapes using OpenCV\n",
    "\n",
    "This is to detect simple shapes"
   ]
  },
  {
   "cell_type": "code",
   "execution_count": 2,
   "metadata": {},
   "outputs": [],
   "source": [
    "import cv2 as cv\n",
    "import matplotlib.pyplot as plt\n",
    "import numpy as np"
   ]
  },
  {
   "cell_type": "code",
   "execution_count": 14,
   "metadata": {},
   "outputs": [],
   "source": [
    "image = cv.imread('shapes.jpg')"
   ]
  },
  {
   "cell_type": "code",
   "execution_count": 5,
   "metadata": {},
   "outputs": [
    {
     "data": {
      "text/plain": [
       "<matplotlib.image.AxesImage at 0x7fbc3120c810>"
      ]
     },
     "execution_count": 5,
     "metadata": {},
     "output_type": "execute_result"
    },
    {
     "data": {
      "image/png": "[encoded data removed]",
      "text/plain": [
       "<Figure size 432x288 with 1 Axes>"
      ]
     },
     "metadata": {
      "needs_background": "light"
     },
     "output_type": "display_data"
    }
   ],
   "source": [
    "plt.imshow(image)"
   ]
  },
  {
   "cell_type": "code",
   "execution_count": 15,
   "metadata": {},
   "outputs": [],
   "source": [
    "img_gray = cv.cvtColor(image, cv.COLOR_BGR2GRAY)"
   ]
  },
  {
   "cell_type": "code",
   "execution_count": 7,
   "metadata": {},
   "outputs": [
    {
     "data": {
      "text/plain": [
       "-1"
      ]
     },
     "execution_count": 7,
     "metadata": {},
     "output_type": "execute_result"
    }
   ],
   "source": [
    "cv.imshow('shapes', img_gray)\n",
    "cv.waitKey(0)\n",
    "cv.destroyAllWindows()\n",
    "cv.waitKey(1)\n",
    "cv.waitKey(1)\n",
    "cv.waitKey(1)\n",
    "cv.waitKey(1)"
   ]
  },
  {
   "cell_type": "code",
   "execution_count": 16,
   "metadata": {},
   "outputs": [],
   "source": [
    "#find the threshold\n",
    "#values:(image, thresvalue(can use trackbar to check), maxthresvalue, threstype)\n",
    "\n",
    "_,thres = cv.threshold(img_gray, 240, 255, cv.THRESH_BINARY)"
   ]
  },
  {
   "cell_type": "code",
   "execution_count": 19,
   "metadata": {},
   "outputs": [
    {
     "data": {
      "text/plain": [
       "-1"
      ]
     },
     "execution_count": 19,
     "metadata": {},
     "output_type": "execute_result"
    }
   ],
   "source": [
    "cv.imshow('thres',thres)\n",
    "cv.waitKey(0)\n",
    "cv.destroyAllWindows()\n",
    "cv.waitKey(1)\n",
    "cv.waitKey(1)\n",
    "cv.waitKey(1)\n",
    "cv.waitKey(1)"
   ]
  },
  {
   "cell_type": "code",
   "execution_count": 20,
   "metadata": {},
   "outputs": [],
   "source": [
    "#find contours(we use _ since we dont need second value)\n",
    "#values:(image, mode, method of contour)\n",
    "\n",
    "contours,_ = cv.findContours(thres, cv.RETR_TREE, cv.CHAIN_APPROX_NONE)"
   ]
  },
  {
   "cell_type": "code",
   "execution_count": 21,
   "metadata": {},
   "outputs": [
    {
     "name": "stdout",
     "output_type": "stream",
     "text": [
      "Number of contours: 61\n"
     ]
    }
   ],
   "source": [
    "print ('Number of contours: '+ str(len(contours))) "
   ]
  },
  {
   "cell_type": "code",
   "execution_count": 22,
   "metadata": {},
   "outputs": [
    {
     "name": "stdout",
     "output_type": "stream",
     "text": [
      "1.3298701298701299\n",
      "1.0\n",
      "1.0\n",
      "1.0\n",
      "1.0\n",
      "1.0\n",
      "1.0\n",
      "1.0\n",
      "1.0\n",
      "1.0\n",
      "1.0\n",
      "1.0\n",
      "1.0\n",
      "1.0\n",
      "1.0\n",
      "1.0\n",
      "1.0\n",
      "1.0\n",
      "1.0\n",
      "1.0\n",
      "1.0\n",
      "1.0\n",
      "1.0\n",
      "2.082802547770701\n",
      "1.0\n",
      "1.0\n",
      "1.0\n",
      "1.0\n",
      "1.0\n",
      "1.0\n",
      "1.0\n",
      "1.0\n",
      "1.0\n",
      "1.0\n",
      "1.0\n",
      "1.0\n",
      "1.0\n",
      "1.0\n",
      "1.0\n",
      "1.0\n",
      "1.0\n",
      "1.0\n",
      "1.0\n",
      "1.0\n",
      "1.0\n",
      "1.0\n",
      "1.0\n",
      "1.0\n",
      "1.0\n",
      "1.0\n",
      "1.0\n",
      "1.0\n",
      "1.0\n",
      "0.995049504950495\n"
     ]
    },
    {
     "data": {
      "text/plain": [
       "-1"
      ]
     },
     "execution_count": 22,
     "metadata": {},
     "output_type": "execute_result"
    }
   ],
   "source": [
    "#interate over all the contours\n",
    "#use a method called approxPolyDP - it approximates polygominal shapes with specific precision. \n",
    "#\n",
    "#values:(curve(the contour we found in the image), \n",
    "#        epsilon (parameter specifying approx accuracy)*method - arc.length(), closed(true/false).\n",
    "\n",
    "# cv.arcLench(calculates a contour paramenter or a curve length) values:(curves, \n",
    "#                        closed or open contours(in our case we have all closed shapes) \n",
    "#cv.drawContour values:(image, approx value, contour_index = 0(as we working on one comtour at a time), color, thickness)\n",
    "\n",
    "\n",
    "for contour in contours:\n",
    "    approx = cv.approxPolyDP(contour, 0.01*cv.arcLength(contour, True), True)\n",
    "    cv.drawContours(image, [approx], 0, (0,0,0), 5) #draw back in original image, approximation another way\n",
    "    \n",
    "    #print the shape what shape it is: we have to find coordinates using approx variable.\n",
    "    x = approx.ravel()[0] #index here will x coordinate\n",
    "    y = approx.ravel()[1] - 15 #index to have y coordinates (adjusting after viewing image)\n",
    "    \n",
    "    if len(approx) == 3:   #approx variable to calc. approximate number of polygonal curves, we can know what shape\n",
    "        \n",
    "        #to print on orignial image \n",
    "        cv.putText(image, 'Triangle', (x,y), cv.FONT_HERSHEY_COMPLEX, 0.5, (0,0,0))\n",
    "        \n",
    "    elif len(approx) == 4:   #same logic we can know a 4 sided to be square or rectange\n",
    "        \n",
    "        #to decide if is rect. or square, we can use bindingContour gives w,h,x,y\n",
    "        x1, y1, w, h = cv.boundingRect(approx)\n",
    "        aspect_ratio = float(w)/h #based on width and height we can find aspect ratio\n",
    "        print(aspect_ratio)\n",
    "        \n",
    "        if aspect_ratio >= 0.95 and aspect_ratio <1.05:\n",
    "            \n",
    "            #to print on orignial image\n",
    "            cv.putText(image, 'Square', (x1,y1), cv.FONT_HERSHEY_COMPLEX, 0.5, (0,0,0))\n",
    "            \n",
    "        else:\n",
    "        \n",
    "            #to print on orignial image\n",
    "            cv.putText(image, 'Rectangle', (x1,y1), cv.FONT_HERSHEY_COMPLEX, 0.5, (0,0,0))\n",
    "        \n",
    "    elif len(approx) == 5:   #same logic we can know a 5 sided to be square or rectange\n",
    "        \n",
    "        #to print on orignial image \n",
    "        cv.putText(image, 'Pentagon', (x,y), cv.FONT_HERSHEY_COMPLEX, 0.5, (0,0,0))\n",
    "        \n",
    "    elif len(approx) == 6:   #same logic we can know a 6 sided to be square or rectange\n",
    "        \n",
    "        #to print on orignial image \n",
    "        cv.putText(image, 'Hexagon', (x,y), cv.FONT_HERSHEY_COMPLEX, 0.5, (0,0,0))\n",
    "        \n",
    "    #elif len(approx) == 10:   #same logic we can know a 10 sided to be square or rectange\n",
    "        \n",
    "        #to print \n",
    "        #cv.putText(image, 'Star', (x,y), cv.FONT_HERSHEY_COMPLEX, 0.5, (0,0,0))\n",
    "        \n",
    "    else:\n",
    "        cv.putText(image, 'Circle', (x,y), cv.FONT_HERSHEY_COMPLEX, 0.5, (0,0,0))\n",
    "        \n",
    "\n",
    "cv.imshow('shapes', image)\n",
    "cv.waitKey(0)\n",
    "cv.destroyAllWindows()\n",
    "cv.waitKey(1)\n",
    "cv.waitKey(1)\n",
    "cv.waitKey(1)\n",
    "cv.waitKey(1)"
   ]
  },
  {
   "cell_type": "code",
   "execution_count": null,
   "metadata": {},
   "outputs": [],
   "source": []
  }
 ],
 "metadata": {
  "kernelspec": {
   "display_name": "Python 3",
   "language": "python",
   "name": "python3"
  },
  "language_info": {
   "codemirror_mode": {
    "name": "ipython",
    "version": 3
   },
   "file_extension": ".py",
   "mimetype": "text/x-python",
   "name": "python",
   "nbconvert_exporter": "python",
   "pygments_lexer": "ipython3",
   "version": "3.7.4"
  }
 },
 "nbformat": 4,
 "nbformat_minor": 2
}
